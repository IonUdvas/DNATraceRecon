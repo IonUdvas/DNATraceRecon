{
 "cells": [
  {
   "cell_type": "markdown",
   "id": "6d9569b8",
   "metadata": {},
   "source": [
    "# Bitwise Majority Alignment"
   ]
  },
  {
   "cell_type": "markdown",
   "id": "ac5a79d5",
   "metadata": {},
   "source": [
    "# Main BMA Algorithm"
   ]
  },
  {
   "cell_type": "code",
   "execution_count": 9,
   "id": "11756a7b",
   "metadata": {},
   "outputs": [],
   "source": [
    "import numpy as np\n",
    "import random\n",
    "import csv\n",
    "import time\n",
    "import math"
   ]
  },
  {
   "cell_type": "raw",
   "id": "df09e705",
   "metadata": {},
   "source": [
    "# The following cell contains the basic implementation of BMA. The parameters is the array of received binary strings, and the returned value is the obtained transmitted binary string. The pseudocode is as follows:\n",
    "\n",
    "Let c[j] = 1 for all j = 1, . . . , m\n",
    "For i = 1 to n\n",
    "    Let b be the majority over all j of R[j, c[j]]\n",
    "    t[i] ← b.\n",
    "    Increment c[j] for each j such that R[j, c[j]] = b."
   ]
  },
  {
   "cell_type": "code",
   "execution_count": 10,
   "id": "3eb5a934",
   "metadata": {},
   "outputs": [],
   "source": [
    "def bmaByCode(receivedStringArray):\n",
    "    noOfStrings, length = receivedStringArray.shape\n",
    "    \n",
    "    c = np.zeros(noOfStrings,dtype=int)\n",
    "    transmittedString = np.zeros(length,dtype=int)\n",
    "    \n",
    "    for i in range(length):\n",
    "        temp = [0,0]\n",
    "        for j in range(noOfStrings):\n",
    "            tmp = receivedStringArray[j,c[j]]\n",
    "            temp[tmp] += 1\n",
    "        index_max = np.argmax(temp)\n",
    "        transmittedString[i] = index_max  \n",
    "        \n",
    "        for j in range(noOfStrings):\n",
    "            temp = c[j]\n",
    "            for k in range(temp+1,length):\n",
    "                if(receivedStringArray[j,k] == index_max):\n",
    "                    c[j] = k\n",
    "                    break\n",
    "                c[j] = length-1\n",
    "            \n",
    "                  \n",
    "\n",
    "    return transmittedString"
   ]
  },
  {
   "cell_type": "raw",
   "id": "18ac5547",
   "metadata": {},
   "source": [
    "The above BMA does not yield a correct answer, maybe because the following line is incorrect.\n",
    "\n",
    "    Increment c[j] for each j such that R[j, c[j]] = b.\n",
    "    \n",
    "Instead, the theory lines are followed, and the same is coded. That yields correct answers, that definition is shown below."
   ]
  },
  {
   "cell_type": "code",
   "execution_count": 11,
   "id": "97f27c8f",
   "metadata": {},
   "outputs": [],
   "source": [
    "def bma(receivedStringArray):\n",
    "    noOfStrings, length = receivedStringArray.shape\n",
    "    \n",
    "    c = np.zeros(noOfStrings,dtype=int)\n",
    "    transmittedString = np.zeros(length,dtype=int)\n",
    "    \n",
    "    for i in range(length):\n",
    "        temp = [0,0]\n",
    "        for j in range(noOfStrings):\n",
    "            tmp = receivedStringArray[j,c[j]]\n",
    "            temp[tmp] += 1\n",
    "        index_max = np.argmax(temp)\n",
    "        transmittedString[i] = index_max  \n",
    "        \n",
    "        for j in range(noOfStrings):\n",
    "            if receivedStringArray[j,c[j]] == transmittedString[i]:\n",
    "                c[j] += 1\n",
    "            else:\n",
    "                continue\n",
    "            \n",
    "                  \n",
    "\n",
    "    return transmittedString"
   ]
  },
  {
   "cell_type": "code",
   "execution_count": 12,
   "id": "12377a30",
   "metadata": {},
   "outputs": [
    {
     "name": "stdout",
     "output_type": "stream",
     "text": [
      "[1 1 1 1]\n"
     ]
    }
   ],
   "source": [
    "#For Testing\n",
    "\n",
    "print(bma(np.array([[1,1,1,1],[1,1,1,0],[1,1,1,1]])))"
   ]
  },
  {
   "cell_type": "markdown",
   "id": "23fd25d7",
   "metadata": {},
   "source": [
    "# Dataset Generation"
   ]
  },
  {
   "cell_type": "raw",
   "id": "c7729420",
   "metadata": {},
   "source": [
    "In this portion, we will generate the dataset for running the BMA on. The code will take length of string, number of transmissions, and probability of deletion and give out a random binary string, and also a matrix containing the transmitted strings."
   ]
  },
  {
   "cell_type": "code",
   "execution_count": 13,
   "id": "d76d9fbf",
   "metadata": {},
   "outputs": [],
   "source": [
    "def createDataset(length, noOfTransmissions, prob):\n",
    "    transmittedString = np.zeros(length,dtype=int)\n",
    "    matrix = np.zeros((noOfTransmissions,length),dtype=int)\n",
    "    \n",
    "    for i in range(length):\n",
    "        transmittedString[i] = random.randint(0,1)\n",
    "    \n",
    "    for k in range(noOfTransmissions):\n",
    "        temp = np.zeros(length,dtype=int)\n",
    "        j = 0\n",
    "        for i in range(length):\n",
    "            a = random.choices([0,1], weights=(prob,100-prob), k=1)\n",
    "            if(a == [0]):\n",
    "                continue\n",
    "            else:\n",
    "                temp[j] = transmittedString[i]\n",
    "                j += 1\n",
    "        matrix[k] = temp\n",
    "    \n",
    "    return transmittedString, matrix"
   ]
  },
  {
   "cell_type": "code",
   "execution_count": 14,
   "id": "cc3639b5",
   "metadata": {},
   "outputs": [
    {
     "name": "stdout",
     "output_type": "stream",
     "text": [
      "Original String: [1 0 1 1 0]\n",
      "Generated Matrix:\n",
      " [[1 0 1 1 0]\n",
      " [1 0 1 1 0]\n",
      " [1 0 1 0 0]\n",
      " [1 0 1 1 0]\n",
      " [1 0 1 0 0]\n",
      " [1 0 1 1 0]\n",
      " [1 0 1 1 0]\n",
      " [1 0 1 0 0]\n",
      " [1 1 1 0 0]\n",
      " [1 0 1 1 0]]\n",
      "Calculated String: [1 0 1 1 0]\n"
     ]
    }
   ],
   "source": [
    "correctString, generatedDataset = createDataset(5,10,10)\n",
    "calculatedString = bma(np.array(generatedDataset))\n",
    "   \n",
    "print('Original String: {}\\nGenerated Matrix:\\n {}\\nCalculated String: {}'.format(correctString,  generatedDataset, calculatedString))"
   ]
  },
  {
   "cell_type": "markdown",
   "id": "99b12a58",
   "metadata": {},
   "source": [
    "# Validation of the Algorithm"
   ]
  },
  {
   "cell_type": "raw",
   "id": "b67c5e0e",
   "metadata": {},
   "source": [
    "In this part, we shall check for the bounds that the algorithm faces with regards to the correctness. The limits imposed will be on the length, no of transmissions and probability. \n",
    "\n",
    "Length = 5-25 in increments of 5\n",
    "No of Transmissions = Length*2 to Length**2\n",
    "Probability = 0.01 to 30 in multiples of 3"
   ]
  },
  {
   "cell_type": "code",
   "execution_count": 15,
   "id": "efb801e7",
   "metadata": {},
   "outputs": [],
   "source": [
    "# prob_pool = [0.01, 0.03, 0.1, 0.3, 1.0, 3.0, 10.0, 30.0]\n",
    "\n",
    "# header = ['Length', 'No. of Transmits', 'Deletion Probability', 'Percentage Error', 'Time Taken']\n",
    "\n",
    "# file = 'BMA Results.csv'\n",
    "\n",
    "# with open(file, 'w',newline='') as csvfile:\n",
    "#     csvwriter = csv.writer(csvfile)\n",
    "#     csvwriter.writerow(header)\n",
    "#     for length in range(10,100, 5):\n",
    "#         for transmit in range(1, length+1,math.isqrt(length)):\n",
    "#             for prob in prob_pool:\n",
    "#                 correct = 0\n",
    "#                 start = time.time()\n",
    "#                 for i in range(1000):\n",
    "#                     correctString, generatedDataset = createDataset(length,transmit,prob)\n",
    "#                     calculatedString = bma(np.array(generatedDataset))\n",
    "\n",
    "#                     if(str(correctString) == str(calculatedString)):\n",
    "#                         correct += 1\n",
    "#                 per = (1000 - correct)*0.1\n",
    "#                 end = time.time()\n",
    "#                 tt = end - start\n",
    "\n",
    "#                 temp = [length, transmit, prob, per,tt]\n",
    "#                 csvwriter.writerow(temp)"
   ]
  },
  {
   "cell_type": "markdown",
   "id": "da5de5ef",
   "metadata": {},
   "source": [
    "We now take more realistic values of the original DNA reconstruction problem. For that, the limits are as follows:\n",
    "\n",
    "Probabilities: 0.1% to 10% in multiples of 3\n",
    "Length of original string: 10-100 in steps of 5\n",
    "No of transmits: 3-50 in steps of 3"
   ]
  },
  {
   "cell_type": "code",
   "execution_count": 16,
   "id": "c88fa1db",
   "metadata": {},
   "outputs": [],
   "source": [
    "# prob_pool = [0.1, 0.3, 1.0, 3.0, 10.0]\n",
    "\n",
    "# header = ['Length', 'No. of Transmits', 'Deletion Probability', 'Percentage Error', 'Time Taken']\n",
    "\n",
    "# file = 'BMA Results(Realistic).csv'\n",
    "\n",
    "# with open(file, 'w',newline='') as csvfile:\n",
    "#     csvwriter = csv.writer(csvfile)\n",
    "#     csvwriter.writerow(header)\n",
    "#     for length in range(10,100, 5):\n",
    "#         for transmit in range(3, 50, 3):\n",
    "#             for prob in prob_pool:\n",
    "#                 correct = 0\n",
    "#                 start = time.time()\n",
    "#                 for i in range(1000):\n",
    "#                     correctString, generatedDataset = createDataset(length,transmit,prob)\n",
    "#                     calculatedString = bma(np.array(generatedDataset))\n",
    "     \n",
    "#                     if(str(correctString) == str(calculatedString)):\n",
    "#                         correct += 1\n",
    "#                 per = (1000 - correct)*0.1\n",
    "#                 end = time.time()\n",
    "#                 tt = end - start\n",
    "\n",
    "#                 temp = [length, transmit, prob, per,tt]\n",
    "#                 csvwriter.writerow(temp)"
   ]
  },
  {
   "cell_type": "code",
   "execution_count": null,
   "id": "3a0cb185",
   "metadata": {},
   "outputs": [],
   "source": []
  }
 ],
 "metadata": {
  "kernelspec": {
   "display_name": "Python 3 (ipykernel)",
   "language": "python",
   "name": "python3"
  },
  "language_info": {
   "codemirror_mode": {
    "name": "ipython",
    "version": 3
   },
   "file_extension": ".py",
   "mimetype": "text/x-python",
   "name": "python",
   "nbconvert_exporter": "python",
   "pygments_lexer": "ipython3",
   "version": "3.9.10"
  }
 },
 "nbformat": 4,
 "nbformat_minor": 5
}
