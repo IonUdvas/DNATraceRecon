{
 "cells": [
  {
   "cell_type": "code",
   "execution_count": 1,
   "id": "fbb4b8d9",
   "metadata": {},
   "outputs": [],
   "source": [
    "import numpy as np\n",
    "import random\n",
    "import csv\n",
    "import time\n",
    "import math"
   ]
  },
  {
   "cell_type": "code",
   "execution_count": 4,
   "id": "7507f720",
   "metadata": {},
   "outputs": [],
   "source": [
    "def editDistance(str1, str2, m, n):\n",
    "\n",
    "\t# If first string is empty, the only option is to\n",
    "\t# insert all characters of second string into first\n",
    "\tif m == 0:\n",
    "\t\treturn n\n",
    "\n",
    "\t# If second string is empty, the only option is to\n",
    "\t# remove all characters of first string\n",
    "\tif n == 0:\n",
    "\t\treturn m\n",
    "\n",
    "\t# If last characters of two strings are same, nothing\n",
    "\t# much to do. Ignore last characters and get count for\n",
    "\t# remaining strings.\n",
    "\tif str1[m-1] == str2[n-1]:\n",
    "\t\treturn editDistance(str1, str2, m-1, n-1)\n",
    "\n",
    "\t# If last characters are not same, consider all three\n",
    "\t# operations on last character of first string, recursively\n",
    "\t# compute minimum cost for all three operations and take\n",
    "\t# minimum of three values.\n",
    "\treturn 1 + min(editDistance(str1, str2, m, n-1), # Insert\n",
    "\t\t\t\teditDistance(str1, str2, m-1, n), # Remove\n",
    "\t\t\t\teditDistance(str1, str2, m-1, n-1) # Replace\n",
    "\t\t\t\t)"
   ]
  },
  {
   "cell_type": "code",
   "execution_count": 5,
   "id": "b84bb7fd",
   "metadata": {},
   "outputs": [
    {
     "name": "stdout",
     "output_type": "stream",
     "text": [
      "3\n"
     ]
    }
   ],
   "source": [
    "#For Testing\n",
    "\n",
    "str1 = \"sunday\"\n",
    "str2 = \"saturday\"\n",
    "print (editDistance(str1, str2, len(str1), len(str2)))"
   ]
  },
  {
   "cell_type": "code",
   "execution_count": null,
   "id": "104cb319",
   "metadata": {},
   "outputs": [],
   "source": []
  }
 ],
 "metadata": {
  "kernelspec": {
   "display_name": "Python 3",
   "language": "python",
   "name": "python3"
  },
  "language_info": {
   "codemirror_mode": {
    "name": "ipython",
    "version": 3
   },
   "file_extension": ".py",
   "mimetype": "text/x-python",
   "name": "python",
   "nbconvert_exporter": "python",
   "pygments_lexer": "ipython3",
   "version": "3.8.8"
  }
 },
 "nbformat": 4,
 "nbformat_minor": 5
}
